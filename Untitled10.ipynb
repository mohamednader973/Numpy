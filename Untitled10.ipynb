{
  "nbformat": 4,
  "nbformat_minor": 0,
  "metadata": {
    "colab": {
      "name": "Untitled10.ipynb",
      "provenance": [],
      "authorship_tag": "ABX9TyPN3gm/j4KXtfSCQBqg+iUM",
      "include_colab_link": true
    },
    "kernelspec": {
      "name": "python3",
      "display_name": "Python 3"
    },
    "language_info": {
      "name": "python"
    }
  },
  "cells": [
    {
      "cell_type": "markdown",
      "metadata": {
        "id": "view-in-github",
        "colab_type": "text"
      },
      "source": [
        "<a href=\"https://colab.research.google.com/github/mohamednader973/Numpy/blob/main/Untitled10.ipynb\" target=\"_parent\"><img src=\"https://colab.research.google.com/assets/colab-badge.svg\" alt=\"Open In Colab\"/></a>"
      ]
    },
    {
      "cell_type": "markdown",
      "metadata": {
        "id": "GgSKT_UGylot"
      },
      "source": [
        "**Numpy arrays**"
      ]
    },
    {
      "cell_type": "code",
      "metadata": {
        "id": "iSJV3Dh_yk8t"
      },
      "source": [
        "import numpy as np\n",
        "a=np.array([1,2,3,4,5,6])"
      ],
      "execution_count": 2,
      "outputs": []
    },
    {
      "cell_type": "code",
      "metadata": {
        "colab": {
          "base_uri": "https://localhost:8080/"
        },
        "id": "EjNr2mY0yxIv",
        "outputId": "7effc6ee-cf30-4689-8a61-3e6373f2242a"
      },
      "source": [
        "type(a)"
      ],
      "execution_count": 3,
      "outputs": [
        {
          "output_type": "execute_result",
          "data": {
            "text/plain": [
              "numpy.ndarray"
            ]
          },
          "metadata": {},
          "execution_count": 3
        }
      ]
    },
    {
      "cell_type": "code",
      "metadata": {
        "colab": {
          "base_uri": "https://localhost:8080/"
        },
        "id": "SXKCo1CSzCYo",
        "outputId": "f501ffaf-9192-447e-c695-dafc1574f5bc"
      },
      "source": [
        "a.dtype"
      ],
      "execution_count": 4,
      "outputs": [
        {
          "output_type": "execute_result",
          "data": {
            "text/plain": [
              "dtype('int64')"
            ]
          },
          "metadata": {},
          "execution_count": 4
        }
      ]
    },
    {
      "cell_type": "code",
      "metadata": {
        "colab": {
          "base_uri": "https://localhost:8080/"
        },
        "id": "AOsOsJA0zFLf",
        "outputId": "d27575cc-0a0c-4ada-d493-4542028876ee"
      },
      "source": [
        "b=np.array([12.5,6.4,1.4321,12,16,0.5])\n",
        "type(b)\n",
        "b.dtype"
      ],
      "execution_count": 5,
      "outputs": [
        {
          "output_type": "execute_result",
          "data": {
            "text/plain": [
              "dtype('float64')"
            ]
          },
          "metadata": {},
          "execution_count": 5
        }
      ]
    },
    {
      "cell_type": "code",
      "metadata": {
        "colab": {
          "base_uri": "https://localhost:8080/"
        },
        "id": "n_qb3xN-zRf5",
        "outputId": "708eec71-dfe6-469c-a653-90b25d56dadb"
      },
      "source": [
        "b.size"
      ],
      "execution_count": 6,
      "outputs": [
        {
          "output_type": "execute_result",
          "data": {
            "text/plain": [
              "6"
            ]
          },
          "metadata": {},
          "execution_count": 6
        }
      ]
    },
    {
      "cell_type": "code",
      "metadata": {
        "colab": {
          "base_uri": "https://localhost:8080/"
        },
        "id": "3JW0b7P7zXD_",
        "outputId": "69d23faf-cc1d-4227-db5e-6f280b3d4e2d"
      },
      "source": [
        "a.shape"
      ],
      "execution_count": 7,
      "outputs": [
        {
          "output_type": "execute_result",
          "data": {
            "text/plain": [
              "(6,)"
            ]
          },
          "metadata": {},
          "execution_count": 7
        }
      ]
    },
    {
      "cell_type": "code",
      "metadata": {
        "colab": {
          "base_uri": "https://localhost:8080/"
        },
        "id": "n68T4HRhzZhr",
        "outputId": "a6058e69-5f74-4a39-b22d-093f82c451e3"
      },
      "source": [
        "b.ndim"
      ],
      "execution_count": 8,
      "outputs": [
        {
          "output_type": "execute_result",
          "data": {
            "text/plain": [
              "1"
            ]
          },
          "metadata": {},
          "execution_count": 8
        }
      ]
    },
    {
      "cell_type": "markdown",
      "metadata": {
        "id": "l4uDCx1CzkLe"
      },
      "source": [
        "**Numpy array slicing**"
      ]
    },
    {
      "cell_type": "code",
      "metadata": {
        "colab": {
          "base_uri": "https://localhost:8080/"
        },
        "id": "b1sqCT4HzhfU",
        "outputId": "e0288f79-0a55-477a-d070-dc3a12211b64"
      },
      "source": [
        "a[1]"
      ],
      "execution_count": 9,
      "outputs": [
        {
          "output_type": "execute_result",
          "data": {
            "text/plain": [
              "2"
            ]
          },
          "metadata": {},
          "execution_count": 9
        }
      ]
    },
    {
      "cell_type": "code",
      "metadata": {
        "colab": {
          "base_uri": "https://localhost:8080/"
        },
        "id": "xgChMSdBzp9V",
        "outputId": "568e536d-8ade-4cfe-af29-e6ca76647c9c"
      },
      "source": [
        "b[1:4]"
      ],
      "execution_count": 10,
      "outputs": [
        {
          "output_type": "execute_result",
          "data": {
            "text/plain": [
              "array([ 6.4   ,  1.4321, 12.    ])"
            ]
          },
          "metadata": {},
          "execution_count": 10
        }
      ]
    },
    {
      "cell_type": "markdown",
      "metadata": {
        "id": "4XfTBm1AzyvD"
      },
      "source": [
        "**updating values**"
      ]
    },
    {
      "cell_type": "code",
      "metadata": {
        "id": "rTjXst0GzvSA"
      },
      "source": [
        "a[0]=50"
      ],
      "execution_count": 11,
      "outputs": []
    },
    {
      "cell_type": "code",
      "metadata": {
        "colab": {
          "base_uri": "https://localhost:8080/"
        },
        "id": "vLRnO6sUz5xG",
        "outputId": "fc9f1639-6f42-4366-939c-9be7d444596b"
      },
      "source": [
        "a"
      ],
      "execution_count": 12,
      "outputs": [
        {
          "output_type": "execute_result",
          "data": {
            "text/plain": [
              "array([50,  2,  3,  4,  5,  6])"
            ]
          },
          "metadata": {},
          "execution_count": 12
        }
      ]
    },
    {
      "cell_type": "code",
      "metadata": {
        "colab": {
          "base_uri": "https://localhost:8080/"
        },
        "id": "YxNzk57tz7dw",
        "outputId": "e2657293-d594-4e5b-a712-b755d614a183"
      },
      "source": [
        "b[0:2]=3,6\n",
        "b"
      ],
      "execution_count": 15,
      "outputs": [
        {
          "output_type": "execute_result",
          "data": {
            "text/plain": [
              "array([ 3.    ,  6.    ,  1.4321, 12.    , 16.    ,  0.5   ])"
            ]
          },
          "metadata": {},
          "execution_count": 15
        }
      ]
    },
    {
      "cell_type": "markdown",
      "metadata": {
        "id": "UXSvF5mP0RhK"
      },
      "source": [
        "**Operation on numpy arrays**"
      ]
    },
    {
      "cell_type": "code",
      "metadata": {
        "colab": {
          "base_uri": "https://localhost:8080/"
        },
        "id": "I7_pGYpM0ZEY",
        "outputId": "fbdddc6a-d016-4caa-a217-fc4b055fa774"
      },
      "source": [
        "u=np.array([2,47])\n",
        "v=np.array([48,3])\n",
        "z=u+v\n",
        "z"
      ],
      "execution_count": 17,
      "outputs": [
        {
          "output_type": "execute_result",
          "data": {
            "text/plain": [
              "array([50, 50])"
            ]
          },
          "metadata": {},
          "execution_count": 17
        }
      ]
    },
    {
      "cell_type": "code",
      "metadata": {
        "colab": {
          "base_uri": "https://localhost:8080/"
        },
        "id": "kacJ4Kjz0qZL",
        "outputId": "006c0151-c5e8-4ded-9e16-23322b49590f"
      },
      "source": [
        "k=[]\n",
        "for n,m in zip(u,v):\n",
        "  k.append(n+m)\n",
        "k"
      ],
      "execution_count": 20,
      "outputs": [
        {
          "output_type": "execute_result",
          "data": {
            "text/plain": [
              "[50, 50]"
            ]
          },
          "metadata": {},
          "execution_count": 20
        }
      ]
    },
    {
      "cell_type": "code",
      "metadata": {
        "colab": {
          "base_uri": "https://localhost:8080/"
        },
        "id": "sjOZAF5i1fIy",
        "outputId": "d579058f-0501-48d0-b326-cfe1726c11dd"
      },
      "source": [
        "j=u-v\n",
        "j"
      ],
      "execution_count": 21,
      "outputs": [
        {
          "output_type": "execute_result",
          "data": {
            "text/plain": [
              "array([-46,  44])"
            ]
          },
          "metadata": {},
          "execution_count": 21
        }
      ]
    },
    {
      "cell_type": "code",
      "metadata": {
        "colab": {
          "base_uri": "https://localhost:8080/"
        },
        "id": "Xnn1NIs81moc",
        "outputId": "4588b0f5-0305-49ef-da0b-de1a77b68b8f"
      },
      "source": [
        "y=np.array([1,1])\n",
        "y=2*y\n",
        "y"
      ],
      "execution_count": 24,
      "outputs": [
        {
          "output_type": "execute_result",
          "data": {
            "text/plain": [
              "array([2, 2])"
            ]
          },
          "metadata": {},
          "execution_count": 24
        }
      ]
    },
    {
      "cell_type": "code",
      "metadata": {
        "colab": {
          "base_uri": "https://localhost:8080/"
        },
        "id": "OV3LCO6X1xdD",
        "outputId": "ff782b16-b1e3-48da-abda-e78d6dd29e8e"
      },
      "source": [
        "r=[]\n",
        "for u in y:\n",
        "  r.append(2*u)\n",
        "r"
      ],
      "execution_count": 26,
      "outputs": [
        {
          "output_type": "execute_result",
          "data": {
            "text/plain": [
              "[4, 4]"
            ]
          },
          "metadata": {},
          "execution_count": 26
        }
      ]
    },
    {
      "cell_type": "markdown",
      "metadata": {
        "id": "DsfHCMPv2C4c"
      },
      "source": [
        "**cellwise multiplication**"
      ]
    },
    {
      "cell_type": "code",
      "metadata": {
        "id": "uvinkUDu2Chm"
      },
      "source": [
        "g=np.array([1,2])\n",
        "d=np.array([4,8])\n",
        "c=g*d"
      ],
      "execution_count": 27,
      "outputs": []
    },
    {
      "cell_type": "code",
      "metadata": {
        "colab": {
          "base_uri": "https://localhost:8080/"
        },
        "id": "mIXDAN7K2RhC",
        "outputId": "efc2974b-e9b5-429a-9256-a36b6e94e66a"
      },
      "source": [
        "c"
      ],
      "execution_count": 28,
      "outputs": [
        {
          "output_type": "execute_result",
          "data": {
            "text/plain": [
              "array([ 4, 16])"
            ]
          },
          "metadata": {},
          "execution_count": 28
        }
      ]
    },
    {
      "cell_type": "code",
      "metadata": {
        "id": "ug5_hnvR2WmP"
      },
      "source": [
        "o=[]\n",
        "for t,e in zip(g,d):\n",
        "  o.append(g*d)"
      ],
      "execution_count": 30,
      "outputs": []
    },
    {
      "cell_type": "code",
      "metadata": {
        "colab": {
          "base_uri": "https://localhost:8080/"
        },
        "id": "8sMfa5zS2dyZ",
        "outputId": "4d9df4d1-b905-4a1c-fdff-369336365555"
      },
      "source": [
        "o"
      ],
      "execution_count": 31,
      "outputs": [
        {
          "output_type": "execute_result",
          "data": {
            "text/plain": [
              "[array([ 4, 16]), array([ 4, 16])]"
            ]
          },
          "metadata": {},
          "execution_count": 31
        }
      ]
    },
    {
      "cell_type": "markdown",
      "metadata": {
        "id": "CHeAFQrs2ul5"
      },
      "source": [
        "**dot & cross products**"
      ]
    },
    {
      "cell_type": "code",
      "metadata": {
        "colab": {
          "base_uri": "https://localhost:8080/"
        },
        "id": "BNbQ6Pif2xyJ",
        "outputId": "44c16f87-a8f2-402b-f477-b528c10ff5c4"
      },
      "source": [
        "f=np.array([1,2])\n",
        "s=np.array([1,1])\n",
        "w=np.dot(f,s)\n",
        "w"
      ],
      "execution_count": 32,
      "outputs": [
        {
          "output_type": "execute_result",
          "data": {
            "text/plain": [
              "3"
            ]
          },
          "metadata": {},
          "execution_count": 32
        }
      ]
    },
    {
      "cell_type": "code",
      "metadata": {
        "id": "373eRaIR3Aky"
      },
      "source": [
        "x=np.cross(f,s)"
      ],
      "execution_count": 33,
      "outputs": []
    },
    {
      "cell_type": "code",
      "metadata": {
        "colab": {
          "base_uri": "https://localhost:8080/"
        },
        "id": "_I1XJU363GUm",
        "outputId": "1f568353-8dc1-4dc5-aa48-e3488ca15954"
      },
      "source": [
        "x"
      ],
      "execution_count": 34,
      "outputs": [
        {
          "output_type": "execute_result",
          "data": {
            "text/plain": [
              "array(-1)"
            ]
          },
          "metadata": {},
          "execution_count": 34
        }
      ]
    },
    {
      "cell_type": "code",
      "metadata": {
        "colab": {
          "base_uri": "https://localhost:8080/"
        },
        "id": "m5dArYvj3O-_",
        "outputId": "1c89e5ec-3f47-46b2-f736-77ee6a10c05b"
      },
      "source": [
        "q1=np.array([1,2,3])\n",
        "q2=np.array([4,5,6])\n",
        "cross=np.cross(q1,q2)\n",
        "cross"
      ],
      "execution_count": 35,
      "outputs": [
        {
          "output_type": "execute_result",
          "data": {
            "text/plain": [
              "array([-3,  6, -3])"
            ]
          },
          "metadata": {},
          "execution_count": 35
        }
      ]
    },
    {
      "cell_type": "markdown",
      "metadata": {
        "id": "72vWqmc53iOZ"
      },
      "source": [
        "**universal functions** "
      ]
    },
    {
      "cell_type": "code",
      "metadata": {
        "colab": {
          "base_uri": "https://localhost:8080/"
        },
        "id": "5NhXI7pO3hww",
        "outputId": "760a3025-24d2-4c75-9b4c-f06ce12c400d"
      },
      "source": [
        "ups=np.array([1,2,3,4])\n",
        "ups.mean()"
      ],
      "execution_count": 37,
      "outputs": [
        {
          "output_type": "execute_result",
          "data": {
            "text/plain": [
              "2.5"
            ]
          },
          "metadata": {},
          "execution_count": 37
        }
      ]
    },
    {
      "cell_type": "code",
      "metadata": {
        "colab": {
          "base_uri": "https://localhost:8080/"
        },
        "id": "YVbPChOS3zag",
        "outputId": "dfe93152-b2b2-4a38-e713-62e63ce3c3bd"
      },
      "source": [
        "ups.max()"
      ],
      "execution_count": 38,
      "outputs": [
        {
          "output_type": "execute_result",
          "data": {
            "text/plain": [
              "4"
            ]
          },
          "metadata": {},
          "execution_count": 38
        }
      ]
    },
    {
      "cell_type": "code",
      "metadata": {
        "colab": {
          "base_uri": "https://localhost:8080/"
        },
        "id": "HvYLIVMw32mB",
        "outputId": "5286211f-c368-4f85-ece0-4637deafd26d"
      },
      "source": [
        "ups.min()"
      ],
      "execution_count": 39,
      "outputs": [
        {
          "output_type": "execute_result",
          "data": {
            "text/plain": [
              "1"
            ]
          },
          "metadata": {},
          "execution_count": 39
        }
      ]
    },
    {
      "cell_type": "code",
      "metadata": {
        "colab": {
          "base_uri": "https://localhost:8080/"
        },
        "id": "RgxKDVGd34lQ",
        "outputId": "ba3e61bf-39d7-4f25-ca33-d994f5564b53"
      },
      "source": [
        "np.pi"
      ],
      "execution_count": 40,
      "outputs": [
        {
          "output_type": "execute_result",
          "data": {
            "text/plain": [
              "3.141592653589793"
            ]
          },
          "metadata": {},
          "execution_count": 40
        }
      ]
    },
    {
      "cell_type": "code",
      "metadata": {
        "colab": {
          "base_uri": "https://localhost:8080/"
        },
        "id": "cxRsgHaW4CHX",
        "outputId": "c017362f-c316-4f2a-ad94-f11723f978e9"
      },
      "source": [
        "xaxis=np.array([0,np.pi/2,np.pi])\n",
        "xaxis"
      ],
      "execution_count": 42,
      "outputs": [
        {
          "output_type": "execute_result",
          "data": {
            "text/plain": [
              "array([0.        , 1.57079633, 3.14159265])"
            ]
          },
          "metadata": {},
          "execution_count": 42
        }
      ]
    },
    {
      "cell_type": "code",
      "metadata": {
        "colab": {
          "base_uri": "https://localhost:8080/"
        },
        "id": "69wtYRJj4TAJ",
        "outputId": "3899b766-99c2-438e-824b-6e4a36ce7b7d"
      },
      "source": [
        "yaxis=np.sin(xaxis)\n",
        "yaxis"
      ],
      "execution_count": 44,
      "outputs": [
        {
          "output_type": "execute_result",
          "data": {
            "text/plain": [
              "array([0.0000000e+00, 1.0000000e+00, 1.2246468e-16])"
            ]
          },
          "metadata": {},
          "execution_count": 44
        }
      ]
    },
    {
      "cell_type": "code",
      "metadata": {
        "colab": {
          "base_uri": "https://localhost:8080/"
        },
        "id": "HtpflgxN4h8f",
        "outputId": "9f9430ec-4a44-47eb-d802-e2d3efb783ab"
      },
      "source": [
        "np.linspace(2,-2,num=5)"
      ],
      "execution_count": 46,
      "outputs": [
        {
          "output_type": "execute_result",
          "data": {
            "text/plain": [
              "array([ 2.,  1.,  0., -1., -2.])"
            ]
          },
          "metadata": {},
          "execution_count": 46
        }
      ]
    },
    {
      "cell_type": "code",
      "metadata": {
        "id": "Nj5ZydHM40Ml"
      },
      "source": [
        "haxis=np.linspace(0,2*np.pi,num=100)\n",
        "vaxis=np.cos(haxis)"
      ],
      "execution_count": 47,
      "outputs": []
    },
    {
      "cell_type": "code",
      "metadata": {
        "colab": {
          "base_uri": "https://localhost:8080/",
          "height": 282
        },
        "id": "Ui3hlT_k5FJD",
        "outputId": "2b79b0e7-3014-47ae-fcec-e2d00bb01902"
      },
      "source": [
        "import matplotlib.pyplot as plt\n",
        "plt.plot(haxis,vaxis)"
      ],
      "execution_count": 48,
      "outputs": [
        {
          "output_type": "execute_result",
          "data": {
            "text/plain": [
              "[<matplotlib.lines.Line2D at 0x7f14a5addf10>]"
            ]
          },
          "metadata": {},
          "execution_count": 48
        },
        {
          "output_type": "display_data",
          "data": {
            "image/png": "[encoded data removed]",
            "text/plain": [
              "<Figure size 432x288 with 1 Axes>"
            ]
          },
          "metadata": {
            "needs_background": "light"
          }
        }
      ]
    },
    {
      "cell_type": "markdown",
      "metadata": {
        "id": "kxQ3rjT05Vvp"
      },
      "source": [
        "**2D numpy arrays**"
      ]
    },
    {
      "cell_type": "code",
      "metadata": {
        "id": "_g7o7r9a5Z7y"
      },
      "source": [
        "uix=[[1,2,3],[4,5,6],[7,8,9]]"
      ],
      "execution_count": 49,
      "outputs": []
    },
    {
      "cell_type": "code",
      "metadata": {
        "id": "5WF3QYD_5gTK"
      },
      "source": [
        "uixnp=np.array(uix)"
      ],
      "execution_count": 50,
      "outputs": []
    },
    {
      "cell_type": "code",
      "metadata": {
        "colab": {
          "base_uri": "https://localhost:8080/"
        },
        "id": "v-MWBQlY5jqD",
        "outputId": "bb83a6bb-1e1b-496f-d229-2519eb7727a2"
      },
      "source": [
        "uixnp"
      ],
      "execution_count": 51,
      "outputs": [
        {
          "output_type": "execute_result",
          "data": {
            "text/plain": [
              "array([[1, 2, 3],\n",
              "       [4, 5, 6],\n",
              "       [7, 8, 9]])"
            ]
          },
          "metadata": {},
          "execution_count": 51
        }
      ]
    },
    {
      "cell_type": "code",
      "metadata": {
        "colab": {
          "base_uri": "https://localhost:8080/"
        },
        "id": "7JJteuZd5n6g",
        "outputId": "59e6405d-6f02-4fb6-8ad5-4025beca0810"
      },
      "source": [
        "uixnp.ndim"
      ],
      "execution_count": 52,
      "outputs": [
        {
          "output_type": "execute_result",
          "data": {
            "text/plain": [
              "2"
            ]
          },
          "metadata": {},
          "execution_count": 52
        }
      ]
    },
    {
      "cell_type": "code",
      "metadata": {
        "colab": {
          "base_uri": "https://localhost:8080/"
        },
        "id": "zow7_Cxs5wfy",
        "outputId": "e1b6469d-8561-419b-be18-aeb37364cbaa"
      },
      "source": [
        "uixnp.shape"
      ],
      "execution_count": 53,
      "outputs": [
        {
          "output_type": "execute_result",
          "data": {
            "text/plain": [
              "(3, 3)"
            ]
          },
          "metadata": {},
          "execution_count": 53
        }
      ]
    },
    {
      "cell_type": "code",
      "metadata": {
        "colab": {
          "base_uri": "https://localhost:8080/"
        },
        "id": "38dS39GD51EL",
        "outputId": "62a7ca32-a2fd-476b-9a63-46e93f4d6bf5"
      },
      "source": [
        "uixnp.size"
      ],
      "execution_count": 54,
      "outputs": [
        {
          "output_type": "execute_result",
          "data": {
            "text/plain": [
              "9"
            ]
          },
          "metadata": {},
          "execution_count": 54
        }
      ]
    },
    {
      "cell_type": "code",
      "metadata": {
        "colab": {
          "base_uri": "https://localhost:8080/"
        },
        "id": "MtAyJIj15-tb",
        "outputId": "1ccf0394-6913-4b7b-f49c-4f6938d49cc0"
      },
      "source": [
        "uixnp[0][2]"
      ],
      "execution_count": 55,
      "outputs": [
        {
          "output_type": "execute_result",
          "data": {
            "text/plain": [
              "3"
            ]
          },
          "metadata": {},
          "execution_count": 55
        }
      ]
    },
    {
      "cell_type": "code",
      "metadata": {
        "colab": {
          "base_uri": "https://localhost:8080/"
        },
        "id": "LyQuI1Po6Ekz",
        "outputId": "6f98c472-06bd-46ea-80a6-e608ebe67cdc"
      },
      "source": [
        "uixnp[0,1:]"
      ],
      "execution_count": 56,
      "outputs": [
        {
          "output_type": "execute_result",
          "data": {
            "text/plain": [
              "array([2, 3])"
            ]
          },
          "metadata": {},
          "execution_count": 56
        }
      ]
    },
    {
      "cell_type": "code",
      "metadata": {
        "colab": {
          "base_uri": "https://localhost:8080/"
        },
        "id": "wAg8al9P6Mjl",
        "outputId": "db1ae48c-1229-4ed3-9cad-67ffe27c6180"
      },
      "source": [
        "uixnp[0:3,1]"
      ],
      "execution_count": 58,
      "outputs": [
        {
          "output_type": "execute_result",
          "data": {
            "text/plain": [
              "array([2, 5, 8])"
            ]
          },
          "metadata": {},
          "execution_count": 58
        }
      ]
    },
    {
      "cell_type": "markdown",
      "metadata": {
        "id": "3n058y0X6YSU"
      },
      "source": [
        "**Basic operations**"
      ]
    },
    {
      "cell_type": "code",
      "metadata": {
        "colab": {
          "base_uri": "https://localhost:8080/"
        },
        "id": "BDoA5-fz6amL",
        "outputId": "88915ecc-989f-47ad-c121-80525f5cdd13"
      },
      "source": [
        "yu=[[1,2],[3,4]]\n",
        "yt=[[5,6],[7,8]]\n",
        "yunp=np.array(yu)\n",
        "print(yunp)\n",
        "ytnp=np.array(yt)\n",
        "print(ytnp)"
      ],
      "execution_count": 60,
      "outputs": [
        {
          "output_type": "stream",
          "text": [
            "[[1 2]\n",
            " [3 4]]\n",
            "[[5 6]\n",
            " [7 8]]\n"
          ],
          "name": "stdout"
        }
      ]
    },
    {
      "cell_type": "code",
      "metadata": {
        "colab": {
          "base_uri": "https://localhost:8080/"
        },
        "id": "OO0XnN6P63qj",
        "outputId": "62075ab4-ecbf-492c-9138-a1b0c3450cf8"
      },
      "source": [
        "xpx=yunp+ytnp\n",
        "xpx"
      ],
      "execution_count": 61,
      "outputs": [
        {
          "output_type": "execute_result",
          "data": {
            "text/plain": [
              "array([[ 6,  8],\n",
              "       [10, 12]])"
            ]
          },
          "metadata": {},
          "execution_count": 61
        }
      ]
    },
    {
      "cell_type": "code",
      "metadata": {
        "colab": {
          "base_uri": "https://localhost:8080/"
        },
        "id": "haPw6ALA7EIo",
        "outputId": "732c3fdd-491a-4e56-d6cc-5950fc67d1f1"
      },
      "source": [
        "xpy=yunp*2\n",
        "xpy"
      ],
      "execution_count": 62,
      "outputs": [
        {
          "output_type": "execute_result",
          "data": {
            "text/plain": [
              "array([[2, 4],\n",
              "       [6, 8]])"
            ]
          },
          "metadata": {},
          "execution_count": 62
        }
      ]
    },
    {
      "cell_type": "code",
      "metadata": {
        "id": "Yrwjdb6B7OQe"
      },
      "source": [
        "xpz=yunp*ytnp"
      ],
      "execution_count": 63,
      "outputs": []
    },
    {
      "cell_type": "code",
      "metadata": {
        "colab": {
          "base_uri": "https://localhost:8080/"
        },
        "id": "aq8w4y857ToC",
        "outputId": "1ec43434-ccc6-43f7-dae5-971f7e1b9137"
      },
      "source": [
        "xpz"
      ],
      "execution_count": 64,
      "outputs": [
        {
          "output_type": "execute_result",
          "data": {
            "text/plain": [
              "array([[ 5, 12],\n",
              "       [21, 32]])"
            ]
          },
          "metadata": {},
          "execution_count": 64
        }
      ]
    },
    {
      "cell_type": "markdown",
      "metadata": {
        "id": "DUw9ubj_7iF_"
      },
      "source": [
        "**MATRIX multiplication**"
      ]
    },
    {
      "cell_type": "code",
      "metadata": {
        "id": "uz7NboGP7lek"
      },
      "source": [
        "ccc=np.dot(yunp,ytnp)"
      ],
      "execution_count": 65,
      "outputs": []
    },
    {
      "cell_type": "code",
      "metadata": {
        "colab": {
          "base_uri": "https://localhost:8080/"
        },
        "id": "sLVzkYYO7tGr",
        "outputId": "c1e35a48-097a-489a-de6a-b86d562fc953"
      },
      "source": [
        "ccc"
      ],
      "execution_count": 66,
      "outputs": [
        {
          "output_type": "execute_result",
          "data": {
            "text/plain": [
              "array([[19, 22],\n",
              "       [43, 50]])"
            ]
          },
          "metadata": {},
          "execution_count": 66
        }
      ]
    },
    {
      "cell_type": "markdown",
      "metadata": {
        "id": "tp0nTv2P8x-H"
      },
      "source": [
        "**BOOLEAN indexing**"
      ]
    },
    {
      "cell_type": "code",
      "metadata": {
        "colab": {
          "base_uri": "https://localhost:8080/"
        },
        "id": "Voz-CB2t800k",
        "outputId": "089ff3e8-60ed-4ae6-e395-b468adf24907"
      },
      "source": [
        "ccc[ccc>20]"
      ],
      "execution_count": 67,
      "outputs": [
        {
          "output_type": "execute_result",
          "data": {
            "text/plain": [
              "array([22, 43, 50])"
            ]
          },
          "metadata": {},
          "execution_count": 67
        }
      ]
    },
    {
      "cell_type": "code",
      "metadata": {
        "colab": {
          "base_uri": "https://localhost:8080/"
        },
        "id": "4ccnsKgM8-Dz",
        "outputId": "765b3d47-6c17-4605-abb5-2aa5364eff72"
      },
      "source": [
        "ccc.transpose()"
      ],
      "execution_count": 68,
      "outputs": [
        {
          "output_type": "execute_result",
          "data": {
            "text/plain": [
              "array([[19, 43],\n",
              "       [22, 50]])"
            ]
          },
          "metadata": {},
          "execution_count": 68
        }
      ]
    },
    {
      "cell_type": "code",
      "metadata": {
        "colab": {
          "base_uri": "https://localhost:8080/"
        },
        "id": "LaFAyGxe9EaF",
        "outputId": "1133e629-9df9-4e72-d314-584a2ac765e9"
      },
      "source": [
        "ccc>20"
      ],
      "execution_count": 69,
      "outputs": [
        {
          "output_type": "execute_result",
          "data": {
            "text/plain": [
              "array([[False,  True],\n",
              "       [ True,  True]])"
            ]
          },
          "metadata": {},
          "execution_count": 69
        }
      ]
    },
    {
      "cell_type": "code",
      "metadata": {
        "id": "jAW9ihU59wAN"
      },
      "source": [
        "ddd=[20,60]\n",
        "fff=np.append(ccc,ddd)"
      ],
      "execution_count": 74,
      "outputs": []
    },
    {
      "cell_type": "code",
      "metadata": {
        "colab": {
          "base_uri": "https://localhost:8080/"
        },
        "id": "lAn1W2vn96zu",
        "outputId": "19673c3f-5e76-4a58-950f-468e42b2cf9a"
      },
      "source": [
        "np.insert(ccc,1,5)"
      ],
      "execution_count": 77,
      "outputs": [
        {
          "output_type": "execute_result",
          "data": {
            "text/plain": [
              "array([19,  5, 22, 43, 50])"
            ]
          },
          "metadata": {},
          "execution_count": 77
        }
      ]
    },
    {
      "cell_type": "code",
      "metadata": {
        "colab": {
          "base_uri": "https://localhost:8080/"
        },
        "id": "OxwkJnb3_YlG",
        "outputId": "b6837327-31ff-42a9-bd88-167661497e89"
      },
      "source": [
        "np.column_stack((ccc,ddd))"
      ],
      "execution_count": 82,
      "outputs": [
        {
          "output_type": "execute_result",
          "data": {
            "text/plain": [
              "array([[19, 22, 20],\n",
              "       [43, 50, 60]])"
            ]
          },
          "metadata": {},
          "execution_count": 82
        }
      ]
    },
    {
      "cell_type": "code",
      "metadata": {
        "colab": {
          "base_uri": "https://localhost:8080/"
        },
        "id": "u8iR-Yvw_inp",
        "outputId": "4e13f484-305a-4aae-cbb7-65d421e04179"
      },
      "source": [
        "ccc"
      ],
      "execution_count": 83,
      "outputs": [
        {
          "output_type": "execute_result",
          "data": {
            "text/plain": [
              "array([[19, 22],\n",
              "       [43, 50]])"
            ]
          },
          "metadata": {},
          "execution_count": 83
        }
      ]
    },
    {
      "cell_type": "code",
      "metadata": {
        "colab": {
          "base_uri": "https://localhost:8080/"
        },
        "id": "Yv68tstS_oyO",
        "outputId": "eb033b37-128c-43e3-c4e3-83bb0df15998"
      },
      "source": [
        "np.row_stack((ccc,ddd))"
      ],
      "execution_count": 85,
      "outputs": [
        {
          "output_type": "execute_result",
          "data": {
            "text/plain": [
              "array([[19, 22],\n",
              "       [43, 50],\n",
              "       [20, 60]])"
            ]
          },
          "metadata": {},
          "execution_count": 85
        }
      ]
    },
    {
      "cell_type": "markdown",
      "metadata": {
        "id": "Q1gX6T1w_5J2"
      },
      "source": [
        "**Sorting**"
      ]
    },
    {
      "cell_type": "code",
      "metadata": {
        "colab": {
          "base_uri": "https://localhost:8080/"
        },
        "id": "oONDUvzh_7fj",
        "outputId": "189208a7-c8ea-461f-976d-3a1aaf4ed6f0"
      },
      "source": [
        "ccc.sort()\n",
        "ccc"
      ],
      "execution_count": 88,
      "outputs": [
        {
          "output_type": "execute_result",
          "data": {
            "text/plain": [
              "array([[19, 22],\n",
              "       [43, 50]])"
            ]
          },
          "metadata": {},
          "execution_count": 88
        }
      ]
    },
    {
      "cell_type": "code",
      "metadata": {
        "id": "-sebgcgdAFEW"
      },
      "source": [
        "ggg=np.array([5,6,9,2])\n",
        "ggg.sort()"
      ],
      "execution_count": 89,
      "outputs": []
    },
    {
      "cell_type": "code",
      "metadata": {
        "colab": {
          "base_uri": "https://localhost:8080/"
        },
        "id": "ETm0ba1kANr2",
        "outputId": "1c9f7a2b-198c-4672-e120-9763991ddc69"
      },
      "source": [
        "ggg"
      ],
      "execution_count": 90,
      "outputs": [
        {
          "output_type": "execute_result",
          "data": {
            "text/plain": [
              "array([2, 5, 6, 9])"
            ]
          },
          "metadata": {},
          "execution_count": 90
        }
      ]
    },
    {
      "cell_type": "code",
      "metadata": {
        "id": "J6RyNrKyAUCv"
      },
      "source": [
        "hhh=[[1,2,120],[4,5,6],[60,50,20]]"
      ],
      "execution_count": 95,
      "outputs": []
    },
    {
      "cell_type": "code",
      "metadata": {
        "id": "XiGcjtaSAcxH"
      },
      "source": [
        "hhhnp=np.array(hhh)"
      ],
      "execution_count": 96,
      "outputs": []
    },
    {
      "cell_type": "code",
      "metadata": {
        "id": "0wnH7dbhAgpv"
      },
      "source": [
        "hhhnp.sort(axis=0)"
      ],
      "execution_count": 99,
      "outputs": []
    },
    {
      "cell_type": "code",
      "metadata": {
        "colab": {
          "base_uri": "https://localhost:8080/"
        },
        "id": "cLMjAsTmAr4x",
        "outputId": "b2ef7e21-da1c-4f36-c51c-56c79e555ca0"
      },
      "source": [
        "hhhnp"
      ],
      "execution_count": 100,
      "outputs": [
        {
          "output_type": "execute_result",
          "data": {
            "text/plain": [
              "array([[  1,   2,   6],\n",
              "       [  4,   5,  20],\n",
              "       [ 60,  50, 120]])"
            ]
          },
          "metadata": {},
          "execution_count": 100
        }
      ]
    }
  ]
}